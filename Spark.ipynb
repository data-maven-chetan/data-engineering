{
  "nbformat": 4,
  "nbformat_minor": 0,
  "metadata": {
    "colab": {
      "provenance": [],
      "authorship_tag": "ABX9TyMmxefcjObl+MNlMrjPVOlE",
      "include_colab_link": true
    },
    "kernelspec": {
      "name": "python3",
      "display_name": "Python 3"
    },
    "language_info": {
      "name": "python"
    }
  },
  "cells": [
    {
      "cell_type": "markdown",
      "metadata": {
        "id": "view-in-github",
        "colab_type": "text"
      },
      "source": [
        "<a href=\"https://colab.research.google.com/github/data-maven-chetan/data-engineering/blob/main/Spark.ipynb\" target=\"_parent\"><img src=\"https://colab.research.google.com/assets/colab-badge.svg\" alt=\"Open In Colab\"/></a>"
      ]
    },
    {
      "cell_type": "code",
      "execution_count": null,
      "metadata": {
        "id": "yQA18KIKXung",
        "colab": {
          "base_uri": "https://localhost:8080/"
        },
        "outputId": "d47d9676-6381-432c-bff8-13b2ab82049e"
      },
      "outputs": [
        {
          "output_type": "stream",
          "name": "stdout",
          "text": [
            "Collecting pyspark\n",
            "  Downloading pyspark-3.5.2.tar.gz (317.3 MB)\n",
            "\u001b[2K     \u001b[90m━━━━━━━━━━━━━━━━━━━━━━━━━━━━━━━━━━━━━━━━\u001b[0m \u001b[32m317.3/317.3 MB\u001b[0m \u001b[31m4.2 MB/s\u001b[0m eta \u001b[36m0:00:00\u001b[0m\n",
            "\u001b[?25h  Preparing metadata (setup.py) ... \u001b[?25l\u001b[?25hdone\n",
            "Requirement already satisfied: py4j==0.10.9.7 in /usr/local/lib/python3.10/dist-packages (from pyspark) (0.10.9.7)\n",
            "Building wheels for collected packages: pyspark\n",
            "  Building wheel for pyspark (setup.py) ... \u001b[?25l\u001b[?25hdone\n",
            "  Created wheel for pyspark: filename=pyspark-3.5.2-py2.py3-none-any.whl size=317812365 sha256=60f1adc55a5998630d1df2c99e4b9b7a96b168cbf791951baf98ac680fb39424\n",
            "  Stored in directory: /root/.cache/pip/wheels/34/34/bd/03944534c44b677cd5859f248090daa9fb27b3c8f8e5f49574\n",
            "Successfully built pyspark\n",
            "Installing collected packages: pyspark\n",
            "Successfully installed pyspark-3.5.2\n"
          ]
        }
      ],
      "source": [
        "pip install pyspark"
      ]
    },
    {
      "cell_type": "code",
      "source": [
        "from pyspark.sql import SparkSession\n",
        "from pyspark.sql.functions import *\n",
        "from pyspark.sql.types import *\n",
        "\n",
        "from pyspark.sql.functions import col"
      ],
      "metadata": {
        "id": "jRNYx08acLGr"
      },
      "execution_count": 44,
      "outputs": []
    },
    {
      "cell_type": "code",
      "source": [
        "spark = SparkSession.builder.appName(\"Employee\").getOrCreate()"
      ],
      "metadata": {
        "id": "h_6zO4M4fIPo"
      },
      "execution_count": 20,
      "outputs": []
    },
    {
      "cell_type": "code",
      "source": [
        "data = [(1,'chetan',5000,'M'),(2,'Rohan',7800,'M'),\\\n",
        "        (3,'Rohit',9800,'M'),(4,'Rohini',7800,'F')\\\n",
        "        ,(5,'Roshita',7400,'F'),(6,'Shalini',5800,'F')]\n",
        "\n",
        "header = [\"id\",\"name\",\"salary\",\"gender\"]"
      ],
      "metadata": {
        "id": "x-hcTvWucfe0"
      },
      "execution_count": 94,
      "outputs": []
    },
    {
      "cell_type": "code",
      "source": [
        "emp_df= spark.createDataFrame(data,header)"
      ],
      "metadata": {
        "id": "Fd6OvWcgdAsz"
      },
      "execution_count": 95,
      "outputs": []
    },
    {
      "cell_type": "code",
      "source": [
        "emp_df.show()"
      ],
      "metadata": {
        "id": "1uzPrXWudOzT",
        "colab": {
          "base_uri": "https://localhost:8080/"
        },
        "outputId": "35d5e051-8ea7-40ea-bb95-a43cecc69d83"
      },
      "execution_count": 96,
      "outputs": [
        {
          "output_type": "stream",
          "name": "stdout",
          "text": [
            "+---+-------+------+------+\n",
            "| id|   name|salary|gender|\n",
            "+---+-------+------+------+\n",
            "|  1| chetan|  5000|     M|\n",
            "|  2|  Rohan|  7800|     M|\n",
            "|  3|  Rohit|  9800|     M|\n",
            "|  4| Rohini|  7800|     F|\n",
            "|  5|Roshita|  7400|     F|\n",
            "|  6|Shalini|  5800|     F|\n",
            "+---+-------+------+------+\n",
            "\n"
          ]
        }
      ]
    },
    {
      "cell_type": "code",
      "source": [
        "emp_df_male = emp_df.filter(\"gender=='M' and salary >6000\")\n",
        "emp_df_male.show()"
      ],
      "metadata": {
        "colab": {
          "base_uri": "https://localhost:8080/"
        },
        "id": "a42OzkTMd1l0",
        "outputId": "3fb5dccc-d494-4dc0-c47c-2bb37ed04bbf"
      },
      "execution_count": 97,
      "outputs": [
        {
          "output_type": "stream",
          "name": "stdout",
          "text": [
            "+---+-----+------+------+\n",
            "| id| name|salary|gender|\n",
            "+---+-----+------+------+\n",
            "|  2|Rohan|  7800|     M|\n",
            "|  3|Rohit|  9800|     M|\n",
            "+---+-----+------+------+\n",
            "\n"
          ]
        }
      ]
    },
    {
      "cell_type": "code",
      "source": [
        "emp_df_female=emp_df.filter(\"gender=='F' and id > 5\")\n",
        "emp_df_female.show()"
      ],
      "metadata": {
        "colab": {
          "base_uri": "https://localhost:8080/"
        },
        "id": "g7I4VAXLd_ur",
        "outputId": "4820d242-bbc3-4c0b-dbea-d3eba55d2ecf"
      },
      "execution_count": 98,
      "outputs": [
        {
          "output_type": "stream",
          "name": "stdout",
          "text": [
            "+---+-------+------+------+\n",
            "| id|   name|salary|gender|\n",
            "+---+-------+------+------+\n",
            "|  6|Shalini|  5800|     F|\n",
            "+---+-------+------+------+\n",
            "\n"
          ]
        }
      ]
    },
    {
      "cell_type": "code",
      "source": [
        "max_sal_df=emp_df.agg({\"salary\":\"max\"})\n",
        "max_sal_df.show()"
      ],
      "metadata": {
        "colab": {
          "base_uri": "https://localhost:8080/"
        },
        "id": "fxJ-v1NNeojh",
        "outputId": "475c1230-d3d1-42d5-f590-8523ad0c10fb"
      },
      "execution_count": 99,
      "outputs": [
        {
          "output_type": "stream",
          "name": "stdout",
          "text": [
            "+-----------+\n",
            "|max(salary)|\n",
            "+-----------+\n",
            "|       9800|\n",
            "+-----------+\n",
            "\n"
          ]
        }
      ]
    },
    {
      "cell_type": "code",
      "source": [
        "max_sal_gender = emp_df.groupBy(\"gender\").agg({\"salary\":\"max\"})\n",
        "max_sal_gender.show()"
      ],
      "metadata": {
        "colab": {
          "base_uri": "https://localhost:8080/"
        },
        "id": "-gYERpQIeogJ",
        "outputId": "c711e6ee-98e1-48f8-f934-4029e2a5c035"
      },
      "execution_count": 100,
      "outputs": [
        {
          "output_type": "stream",
          "name": "stdout",
          "text": [
            "+------+-----------+\n",
            "|gender|max(salary)|\n",
            "+------+-----------+\n",
            "|     M|       9800|\n",
            "|     F|       7800|\n",
            "+------+-----------+\n",
            "\n"
          ]
        }
      ]
    },
    {
      "cell_type": "code",
      "source": [
        "avg_sal_gender = emp_df.groupBy(\"gender\").\\\n",
        "                        agg({\"salary\":\"avg\"}).\\\n",
        "                        withColumnRenamed(\"avg(salary)\",\"avg_sal\")\n",
        "# avg_sal_gender.show()\n",
        "emp_df_sal = emp_df.join(avg_sal_gender,\"gender\",\"left\")\\\n",
        "                   .where(\"salary>avg_sal\")\\\n",
        "                   .select(\"id\",\"name\",\"salary\")\n",
        "# filter(f\"gender={avg_sal_gender.gender}\")\n",
        "emp_df_sal.show()"
      ],
      "metadata": {
        "colab": {
          "base_uri": "https://localhost:8080/"
        },
        "id": "iRXA4iL0eoI_",
        "outputId": "a14e059d-669b-44eb-99fb-45a9db570ffc"
      },
      "execution_count": 101,
      "outputs": [
        {
          "output_type": "stream",
          "name": "stdout",
          "text": [
            "+---+-------+------+\n",
            "| id|   name|salary|\n",
            "+---+-------+------+\n",
            "|  2|  Rohan|  7800|\n",
            "|  3|  Rohit|  9800|\n",
            "|  4| Rohini|  7800|\n",
            "|  5|Roshita|  7400|\n",
            "+---+-------+------+\n",
            "\n"
          ]
        }
      ]
    },
    {
      "cell_type": "code",
      "source": [
        "avg_sal = emp_df.agg(avg(\"salary\")).withColumnRenamed(\"avg(salary)\",\"avg_sal\")\n",
        "avg_sal_emp=avg_sal.collect()[0][0]\n",
        "print(avg_sal_emp)\n",
        "sal_gt_avg=emp_df.filter(f\"salary > {avg_sal_emp}\")\n",
        "sal_gt_avg.show()"
      ],
      "metadata": {
        "colab": {
          "base_uri": "https://localhost:8080/"
        },
        "id": "t7OytCzugmoL",
        "outputId": "dc1e20ae-c541-4301-a107-5711b2b1c33e"
      },
      "execution_count": 102,
      "outputs": [
        {
          "output_type": "stream",
          "name": "stdout",
          "text": [
            "7266.666666666667\n",
            "+---+-------+------+------+\n",
            "| id|   name|salary|gender|\n",
            "+---+-------+------+------+\n",
            "|  2|  Rohan|  7800|     M|\n",
            "|  3|  Rohit|  9800|     M|\n",
            "|  4| Rohini|  7800|     F|\n",
            "|  5|Roshita|  7400|     F|\n",
            "+---+-------+------+------+\n",
            "\n"
          ]
        }
      ]
    },
    {
      "cell_type": "code",
      "source": [],
      "metadata": {
        "id": "Eo8O0MCukl3l"
      },
      "execution_count": 102,
      "outputs": []
    }
  ]
}